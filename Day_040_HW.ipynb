{
 "cells": [
  {
   "cell_type": "markdown",
   "metadata": {},
   "source": [
    "## [作業重點]\n",
    "使用 Sklearn 中的 Lasso, Ridge 模型，來訓練各種資料集，務必了解送進去模型訓練的**資料型態**為何，也請了解模型中各項參數的意義。\n",
    "\n",
    "機器學習的模型非常多種，但要訓練的資料多半有固定的格式，確保你了解訓練資料的格式為何，這樣在應用新模型時，就能夠最快的上手開始訓練！"
   ]
  },
  {
   "cell_type": "markdown",
   "metadata": {},
   "source": [
    "## 練習時間\n",
    "試著使用 sklearn datasets 的其他資料集 (boston, ...)，來訓練自己的線性迴歸模型，並加上適當的正則化來觀察訓練情形。"
   ]
  },
  {
   "cell_type": "code",
   "execution_count": 1,
   "metadata": {},
   "outputs": [],
   "source": [
    "import numpy as np\n",
    "import matplotlib.pyplot as plt\n",
    "from sklearn import datasets, linear_model\n",
    "from sklearn.model_selection import train_test_split\n",
    "from sklearn.metrics import mean_squared_error, r2_score"
   ]
  },
  {
   "cell_type": "code",
   "execution_count": 4,
   "metadata": {},
   "outputs": [],
   "source": [
    "bcancer = datasets.load_breast_cancer()\n",
    "x_train,x_test,y_train,y_test = train_test_split(bcancer.data,bcancer.target)\n",
    "lr = linear_model.LinearRegression()\n",
    "lr.fit(x_train,y_train)\n",
    "y_pred = lr.predict(x_test)\n"
   ]
  },
  {
   "cell_type": "code",
   "execution_count": 7,
   "metadata": {},
   "outputs": [
    {
     "name": "stdout",
     "output_type": "stream",
     "text": [
      "coefficient: [ 2.67617510e-01 -7.85332032e-03 -3.57890284e-02 -4.39356207e-05\n",
      " -2.07821385e+00  4.22566272e+00 -1.23618466e+00 -1.52913062e+00\n",
      "  1.31235098e+00 -7.73925957e-01 -5.80637892e-01 -9.95591249e-04\n",
      "  2.05642228e-02  1.44754218e-03 -2.19002640e+01 -7.08841686e-01\n",
      "  3.29632628e+00 -7.18736955e+00  4.50699009e-01  9.01875878e+00\n",
      " -2.05692987e-01 -5.55684515e-03  6.26953734e-03  8.96123943e-04\n",
      "  1.02452745e+00  2.27994856e-01 -5.00526237e-01 -6.78294909e-01\n",
      " -1.49961285e+00 -4.66061063e+00]\n",
      "MSE: 0.06102384499005393\n"
     ]
    }
   ],
   "source": [
    "print('coefficient:',lr.coef_)\n",
    "print('MSE:',mean_squared_error(y_test,y_pred))"
   ]
  },
  {
   "cell_type": "code",
   "execution_count": 14,
   "metadata": {},
   "outputs": [],
   "source": [
    "bcancer = datasets.load_breast_cancer()\n",
    "x_train,x_test,y_train,y_test = train_test_split(bcancer.data,bcancer.target)\n",
    "lasso = linear_model.Lasso(alpha = 1)\n",
    "lasso.fit(x_train,y_train)\n",
    "y_pred = lasso.predict(x_test)"
   ]
  },
  {
   "cell_type": "code",
   "execution_count": 15,
   "metadata": {},
   "outputs": [
    {
     "name": "stdout",
     "output_type": "stream",
     "text": [
      "lasso coeffiecient: [-0.         -0.         -0.         -0.         -0.         -0.\n",
      " -0.         -0.         -0.         -0.         -0.         -0.\n",
      " -0.          0.         -0.         -0.         -0.         -0.\n",
      " -0.         -0.         -0.         -0.         -0.00316899 -0.0004135\n",
      " -0.         -0.         -0.         -0.         -0.         -0.        ]\n",
      "lasso MSE: 0.08442355535784529\n"
     ]
    }
   ],
   "source": [
    "print('lasso coeffiecient:',lasso.coef_)\n",
    "print('lasso MSE:',mean_squared_error(y_test,y_pred))"
   ]
  },
  {
   "cell_type": "code",
   "execution_count": 16,
   "metadata": {},
   "outputs": [],
   "source": [
    "bcancer = datasets.load_breast_cancer()\n",
    "x_train,x_test,y_train,y_test = train_test_split(bcancer.data,bcancer.target)\n",
    "ridge = linear_model.Ridge(alpha = 1)\n",
    "ridge.fit(x_train,y_train)\n",
    "y_pred = ridge.predict(x_test)"
   ]
  },
  {
   "cell_type": "code",
   "execution_count": 17,
   "metadata": {},
   "outputs": [
    {
     "name": "stdout",
     "output_type": "stream",
     "text": [
      "ridge coeffiecient: [-0.         -0.         -0.         -0.         -0.         -0.\n",
      " -0.         -0.         -0.         -0.         -0.         -0.\n",
      " -0.          0.         -0.         -0.         -0.         -0.\n",
      " -0.         -0.         -0.         -0.         -0.00316899 -0.0004135\n",
      " -0.         -0.         -0.         -0.         -0.         -0.        ]\n",
      "ridge MSE: 0.0752049834163113\n"
     ]
    }
   ],
   "source": [
    "print('ridge coeffiecient:',lasso.coef_)\n",
    "print('ridge MSE:',mean_squared_error(y_test,y_pred))"
   ]
  },
  {
   "cell_type": "code",
   "execution_count": null,
   "metadata": {},
   "outputs": [],
   "source": []
  }
 ],
 "metadata": {
  "kernelspec": {
   "display_name": "finlab",
   "language": "python",
   "name": "finlab"
  },
  "language_info": {
   "codemirror_mode": {
    "name": "ipython",
    "version": 3
   },
   "file_extension": ".py",
   "mimetype": "text/x-python",
   "name": "python",
   "nbconvert_exporter": "python",
   "pygments_lexer": "ipython3",
   "version": "3.6.8"
  }
 },
 "nbformat": 4,
 "nbformat_minor": 4
}
