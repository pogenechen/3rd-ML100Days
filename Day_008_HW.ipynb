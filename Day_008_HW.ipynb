{
 "cells": [
  {
   "cell_type": "markdown",
   "metadata": {},
   "source": [
    "# [作業目標]\n",
    "- 對資料做更多處理 : 顯示特定欄位的統計值與直方圖"
   ]
  },
  {
   "cell_type": "markdown",
   "metadata": {},
   "source": [
    "# [作業重點]\n",
    "- 試著顯示特定欄位的基礎統計數值 (In[4], Out[4], Hint : describe())\n",
    "- 試著顯示特定欄位的直方圖 (In[5], Out[5], Hint : .hist())"
   ]
  },
  {
   "cell_type": "code",
   "execution_count": 1,
   "metadata": {},
   "outputs": [],
   "source": [
    "# Import 需要的套件\n",
    "import os\n",
    "import numpy as np\n",
    "import pandas as pd\n",
    "\n",
    "# 設定 data_path\n",
    "dir_data = './data/'"
   ]
  },
  {
   "cell_type": "code",
   "execution_count": 18,
   "metadata": {
    "scrolled": true
   },
   "outputs": [],
   "source": [
    "f_app_train = os.path.join(dir_data, 'credit_card_balance.csv')\n",
    "app_train = pd.read_csv(f_app_train)\n"
   ]
  },
  {
   "cell_type": "code",
   "execution_count": 4,
   "metadata": {},
   "outputs": [],
   "source": [
    "import matplotlib.pyplot as plt\n",
    "%matplotlib inline"
   ]
  },
  {
   "cell_type": "markdown",
   "metadata": {},
   "source": [
    "## 練習時間"
   ]
  },
  {
   "cell_type": "markdown",
   "metadata": {},
   "source": [
    "觀察有興趣的欄位的資料分佈，並嘗試找出有趣的訊息\n",
    "#### Eg\n",
    "- 計算任意欄位的平均數及標準差\n",
    "- 畫出任意欄位的[直方圖](https://zh.wikipedia.org/zh-tw/%E7%9B%B4%E6%96%B9%E5%9B%BE)\n",
    "\n",
    "### Hints:\n",
    "- [Descriptive Statistics For pandas Dataframe](https://chrisalbon.com/python/data_wrangling/pandas_dataframe_descriptive_stats/)\n",
    "- [pandas 中的繪圖函數](https://amaozhao.gitbooks.io/pandas-notebook/content/pandas%E4%B8%AD%E7%9A%84%E7%BB%98%E5%9B%BE%E5%87%BD%E6%95%B0.html)\n"
   ]
  },
  {
   "cell_type": "code",
   "execution_count": 46,
   "metadata": {},
   "outputs": [
    {
     "name": "stdout",
     "output_type": "stream",
     "text": [
      "mean: 58300.155261857624 \n",
      "standard deviation: 106307.0310235308\n"
     ]
    },
    {
     "data": {
      "text/plain": [
       "(array([2.572816e+06, 3.927100e+05, 3.215380e+05, 2.673100e+05,\n",
       "        8.226600e+04, 5.934500e+04, 2.470000e+04, 2.450700e+04,\n",
       "        3.693000e+04, 2.909000e+04, 3.919000e+03, 4.206000e+03,\n",
       "        3.272000e+03, 3.083000e+03, 3.530000e+03, 4.519000e+03,\n",
       "        1.411000e+03, 1.349000e+03, 1.382000e+03, 6.600000e+01,\n",
       "        1.000000e+00, 3.000000e+00, 4.000000e+00, 1.000000e+00,\n",
       "        4.000000e+00, 0.000000e+00, 2.000000e+00, 2.000000e+00,\n",
       "        0.000000e+00, 0.000000e+00]),\n",
       " array([      0,   50000,  100000,  150000,  200000,  250000,  300000,\n",
       "         350000,  400000,  450000,  500000,  550000,  600000,  650000,\n",
       "         700000,  750000,  800000,  850000,  900000,  950000, 1000000,\n",
       "        1050000, 1100000, 1150000, 1200000, 1250000, 1300000, 1350000,\n",
       "        1400000, 1450000, 1500000]),\n",
       " <a list of 30 Patch objects>)"
      ]
     },
     "execution_count": 46,
     "metadata": {},
     "output_type": "execute_result"
    },
    {
     "data": {
      "image/png": "[encoded data removed]",
      "text/plain": [
       "<Figure size 432x288 with 1 Axes>"
      ]
     },
     "metadata": {
      "needs_background": "light"
     },
     "output_type": "display_data"
    }
   ],
   "source": [
    "balance = app_train['AMT_BALANCE']\n",
    "print('mean:',balance.mean(),'\\nstandard deviation:',balance.std())\n",
    "bins = range(0,int(balance.max()),50000)\n",
    "plt.hist(balance,bins = bins)"
   ]
  },
  {
   "cell_type": "code",
   "execution_count": null,
   "metadata": {},
   "outputs": [],
   "source": []
  }
 ],
 "metadata": {
  "kernelspec": {
   "display_name": "Finlab",
   "language": "python",
   "name": "finlab"
  },
  "language_info": {
   "codemirror_mode": {
    "name": "ipython",
    "version": 3
   },
   "file_extension": ".py",
   "mimetype": "text/x-python",
   "name": "python",
   "nbconvert_exporter": "python",
   "pygments_lexer": "ipython3",
   "version": "3.6.8"
  }
 },
 "nbformat": 4,
 "nbformat_minor": 4
}
